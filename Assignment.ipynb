{
 "cells": [
  {
   "cell_type": "code",
   "execution_count": 7,
   "metadata": {},
   "outputs": [
    {
     "name": "stdout",
     "output_type": "stream",
     "text": [
      "reading image\n",
      "finding clusters\n",
      "cluster centres:\n",
      " [[ 28.32753263 183.22622747 101.95587321]\n",
      " [  7.15377429 145.35257848  72.31894619]\n",
      " [135.92871287 226.2950495  180.12475248]\n",
      " [254.2688306  254.81814185 254.56447831]\n",
      " [  4.41991342 103.67027417  50.16089466]]\n",
      "countsssss [ 1459  5462   508 13664  1407]\n",
      "index_max 3\n",
      "counts [ 1459  5462   508 13664  1407] codes [[ 28.32753263 183.22622747 101.95587321]\n",
      " [  7.15377429 145.35257848  72.31894619]\n",
      " [135.92871287 226.2950495  180.12475248]\n",
      " [254.2688306  254.81814185 254.56447831]\n",
      " [  4.41991342 103.67027417  50.16089466]]\n",
      "rank [3, 1]\n",
      "peak [  7.15377429 145.35257848  72.31894619]\n",
      "most frequent is [  7.15377429 145.35257848  72.31894619] (#079148)\n"
     ]
    },
    {
     "name": "stderr",
     "output_type": "stream",
     "text": [
      "C:\\Users\\Cheta\\AppData\\Local\\Temp\\ipykernel_15620\\59198480.py:17: DeprecationWarning: scipy.product is deprecated and will be removed in SciPy 2.0.0, use numpy.product instead\n",
      "  ar = ar.reshape(scipy.product(shape[:2]), shape[2]).astype(float)\n",
      "C:\\Users\\Cheta\\AppData\\Local\\Temp\\ipykernel_15620\\59198480.py:24: DeprecationWarning: scipy.histogram is deprecated and will be removed in SciPy 2.0.0, use numpy.histogram instead\n",
      "  counts, bins = scipy.histogram(vecs, len(codes))    # count occurrences\n",
      "C:\\Users\\Cheta\\AppData\\Local\\Temp\\ipykernel_15620\\59198480.py:27: DeprecationWarning: scipy.argmax is deprecated and will be removed in SciPy 2.0.0, use numpy.argmax instead\n",
      "  index_max = scipy.argmax(counts)\n"
     ]
    }
   ],
   "source": [
    "import binascii\n",
    "import struct\n",
    "from PIL import Image\n",
    "import numpy as np\n",
    "import scipy\n",
    "import scipy.misc\n",
    "import scipy.cluster\n",
    "import heapq\n",
    "\n",
    "NUM_CLUSTERS = 5\n",
    "\n",
    "print('reading image')\n",
    "im = Image.open('scarf-10539009.jpg')\n",
    "im = im.resize((150, 150))      # optional, to reduce time\n",
    "ar = np.asarray(im)\n",
    "shape = ar.shape\n",
    "ar = ar.reshape(scipy.product(shape[:2]), shape[2]).astype(float)\n",
    "\n",
    "print('finding clusters')\n",
    "codes, dist = scipy.cluster.vq.kmeans(ar, NUM_CLUSTERS)\n",
    "print('cluster centres:\\n', codes)\n",
    "\n",
    "vecs, dist = scipy.cluster.vq.vq(ar, codes)         # assign codes\n",
    "counts, bins = scipy.histogram(vecs, len(codes))    # count occurrences\n",
    "\n",
    "print(\"countsssss\",counts)\n",
    "index_max = scipy.argmax(counts)\n",
    "\n",
    "print(\"index_max\",index_max)\n",
    "\n",
    "# counts.sort()\n",
    "print(\"counts\",counts,\"codes\",codes)\n",
    "# peak=counts[-2]                    # find most frequent\n",
    "\n",
    "rank=heapq.nlargest(2, range(len(counts)), key=counts.__getitem__)\n",
    "print(\"rank\",rank)\n",
    "peak = codes[rank[-1]]\n",
    "print(\"peak\",peak)\n",
    "colour = binascii.hexlify(bytearray(int(c) for c in peak)).decode('ascii')\n",
    "print('most frequent is %s (#%s)' % (peak, colour))\n"
   ]
  },
  {
   "cell_type": "markdown",
   "metadata": {},
   "source": [
    "# Falabella Assignment\n",
    "\n",
    "## Extract and identify the colour of scarf\n",
    "\n",
    "\n",
    "### Pseudocode\n",
    "\n",
    "1. Train an YOLO model to specifically identify the scarf in an image.\n",
    "2. Extract the scarf from the input image using YOLO\n",
    "3. Using scipy count frequency of color in image make 5 clusters\n",
    "4. take the 2 most abundent cluster, (1 is dropped for background color)\n",
    "5. package in form of a streamlit application\n",
    "6. containarize the application: Create Dockerfile\n",
    "7. create cloudbuild.yml\n",
    "8. link github with gcp (In marketplace link repo to GCP)\n",
    "9. Authenticate and setup\n",
    "10. In Cloud build add a trigger: \n",
    "comit changes and deploy to GCP.\n",
    "\n",
    "\n",
    "![Deployment Flowchart](flowchart.drawio.png)\n",
    "\n",
    "**Flowchart**\n",
    "\n",
    "cloudbuild.yml holds all the steps for deployment of the app onto GCP:\n",
    "1. build the image using Dockerfile in scarf dir.\n",
    "2. Push Docker image to GCR: google container registry\n",
    "3. Build image\n",
    "4. deploy using GKE: k8 files are stored in k8s folder.\n",
    "\n",
    "\n"
   ]
  },
  {
   "cell_type": "markdown",
   "metadata": {},
   "source": []
  }
 ],
 "metadata": {
  "kernelspec": {
   "display_name": "Python 3.10.5 64-bit (windows store)",
   "language": "python",
   "name": "python3"
  },
  "language_info": {
   "codemirror_mode": {
    "name": "ipython",
    "version": 3
   },
   "file_extension": ".py",
   "mimetype": "text/x-python",
   "name": "python",
   "nbconvert_exporter": "python",
   "pygments_lexer": "ipython3",
   "version": "3.10.6"
  },
  "orig_nbformat": 4,
  "vscode": {
   "interpreter": {
    "hash": "15bf6d985ce8add06bb6f3d2adc5dabd34c8de6176c61f1a47ba5767f83cd581"
   }
  }
 },
 "nbformat": 4,
 "nbformat_minor": 2
}
